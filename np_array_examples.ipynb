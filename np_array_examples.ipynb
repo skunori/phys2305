{
 "cells": [
  {
   "cell_type": "markdown",
   "id": "00cc2867",
   "metadata": {},
   "source": [
    "# NumPy array\n",
    "<a href=\"https://numpy.org/doc/stable/reference/generated/numpy.array.html\">NumPy org page</a> <br>\n",
    "<a href=\"https://lectures.scientific-python.org/intro/numpy/index.html\">SPL NumPy top</a>\n",
    "<br>\n",
    "<a href=\"https://www.w3schools.com/python/numpy/default.asp\">(w3) Numpy Totorial</a>\n",
    "<br>\n",
    "<b>Why it is useful:</b> Memory-efficient container that provides fast numerical operations.  <a href=\"https://lectures.scientific-python.org/intro/numpy/array_object.html#what-are-numpy-and-numpy-arrays\">(link)</a>\n",
    "<br>\n",
    "Note: <b>%timeit</b> below is a magic command in Iphtyon/Jupyter Notebook \n",
    "<a href=\"https://ipython.readthedocs.io/en/stable/interactive/magics.html\">(link)</a>,\n",
    "and measures execution time of small code snippets.\n",
    "Both Cell-1 and Cell-2 below calculates 0x0, 1x1, 2x2, 3x3, ... and stores those values in one dimentional array. Cell-1 uses \"for-loop\" on List and Cell-2 uses \"sum\" function from numpy on numpu array. The second method is much more efficient than the first."
   ]
  },
  {
   "cell_type": "code",
   "execution_count": null,
   "id": "ea47b4f8",
   "metadata": {},
   "outputs": [
    {
     "name": "stdout",
     "output_type": "stream",
     "text": [
      "<class 'range'> 1000\n"
     ]
    }
   ],
   "source": [
    "L = range(1000)\n",
    "print(type(L),len(L))\n",
    "%timeit [i**2 for i in L]\n",
    "\n",
    "lx = [i**2 for i in L]\n",
    "print(\"list\",type(lx),\"len(lx)\",len(lx),\"lx[0]\",lx[0],\"[1]\",lx[1],\"[2]\",lx[2],\"[3]\",lx[3])\n"
   ]
  },
  {
   "cell_type": "code",
   "execution_count": null,
   "id": "aa1c17aa",
   "metadata": {},
   "outputs": [],
   "source": [
    "import numpy as np\n",
    "\n",
    "a = np.arange(1000)\n",
    "print(type(a),len(a))\n",
    "%timeit a**2\n",
    "\n",
    "ax = a**2\n",
    "print(\"array\",type(ax),len(ax),\"ax[0]\",ax[0],\"[1]\",ax[1],\"[2]\",ax[2],\"[3]\",ax[3])"
   ]
  },
  {
   "cell_type": "markdown",
   "id": "c91d7d78",
   "metadata": {},
   "source": [
    "# creating array\n",
    "The following shows example of 1D array. "
   ]
  },
  {
   "cell_type": "code",
   "execution_count": null,
   "id": "946aa5bc",
   "metadata": {},
   "outputs": [],
   "source": [
    "import numpy as np\n",
    "\n",
    "a = np.array([0,1,2,3,4])\n",
    "b = np.arange(5)                # integer, start 0, end 5(exclusive)\n",
    "c = np.arange(0, 5, 1)          # integer, start 0, end 5(exclusive), step 1\n",
    "d = np.arange(0.0, 2.0, 0.2)   # floats, start 0.0, end 2.0(exclusive), step 0.2\n",
    "e = np.linspace(0.0, 2.0, 10) # floats, start 0.0, end 2.0(inclusive), 10 floats\n",
    "f = np.ones(10, dtype=float)\n",
    "g = np.zeros(10, dtype=int)\n",
    "print(\"a\",a)\n",
    "print(\"b\",b)\n",
    "print(\"c\",c)\n",
    "print(\"d\",d)\n",
    "print(\"e\",e)\n",
    "print(\"f\",f)\n",
    "print(\"g\",g)"
   ]
  },
  {
   "cell_type": "markdown",
   "id": "126b6e4e",
   "metadata": {},
   "source": [
    "# indexing and slicing"
   ]
  },
  {
   "cell_type": "code",
   "execution_count": null,
   "id": "03731053",
   "metadata": {},
   "outputs": [],
   "source": [
    "a = np.arange(10)\n",
    "b = a[3]         # index 3\n",
    "c = a[2:4]       # start,end(exclusive)\n",
    "d = a[2:9:3]     # start,end(exclusive),step\n",
    "e = a[::-1]      # reverse\n",
    "print(\"a\",a)\n",
    "print(\"b\",b)\n",
    "print(\"c\",c)\n",
    "print(\"d\",d)\n",
    "print(\"e\",e)"
   ]
  },
  {
   "cell_type": "markdown",
   "id": "40b4cfb1",
   "metadata": {},
   "source": [
    "# Use case(1): Differentiation\n",
    "\"x\" is a 1D numpy array, (start -10.0, stop 10.0 step 0.01) and <br>\n",
    "\"x+dx\" creates a new 1D numpy array by addding 0.01 to every element in x, i,e. new[i] = x[i]+0.01."
   ]
  },
  {
   "cell_type": "code",
   "execution_count": null,
   "id": "14c2376f",
   "metadata": {},
   "outputs": [],
   "source": [
    "import numpy as np\n",
    "import matplotlib.pyplot as plt\n",
    "\n",
    "def myfunction(x):\n",
    "    y=np.sin(x)/x-0.05\n",
    "    return y\n",
    "\n",
    "dx = 0.01\n",
    "x = np.arange(-10.0,10.0,dx)\n",
    "y0= myfunction(x)   \n",
    "y1= myfunction(x+dx)   \n",
    "dydx= (y1-y0)/dx\n",
    "\n",
    "plt.plot(x,y0)\n",
    "plt.plot(x,dydx)\n",
    "plt.show()\n"
   ]
  },
  {
   "cell_type": "markdown",
   "id": "535b9b56",
   "metadata": {},
   "source": [
    "# Use case (2): integral\n",
    "This uses numpy functions, np.sum() \n",
    "<a href=\"https://numpy.org/doc/stable/reference/generated/numpy.sum.html\"> (link) </a>\n",
    "for simple sum and np.cumsum() \n",
    "<a href=\"https://numpy.org/doc/stable/reference/generated/numpy.cumsum.html\"> (link) </a>\n",
    "for cumulative sum.\n"
   ]
  },
  {
   "cell_type": "code",
   "execution_count": null,
   "id": "2c53b744",
   "metadata": {},
   "outputs": [],
   "source": [
    "import numpy as np\n",
    "import matplotlib.pyplot as plt\n",
    "\n",
    "def myfunction2(x):\n",
    "    y=2.0*x*x+3.0*x+4.0\n",
    "    return y\n",
    "\n",
    "dx=0.001\n",
    "x=np.arange(-5.0,5.0,dx)\n",
    "y=myfunction2(x)\n",
    "y_integral=np.sum(y)*dx\n",
    "y_cumulative=np.cumsum(y)*dx\n",
    "print(\"y_integral\",y_integral)\n",
    "\n",
    "fig, (ax1, ax2) = plt.subplots(2, 1)\n",
    "fig.suptitle(r'$F(x)=2.0 x^2 + 3.0 x + 4.0$')\n",
    "\n",
    "ax1.plot(x, y, 'b')\n",
    "ax1.set_ylabel('y')\n",
    "\n",
    "ax2.plot(x, y_cumulative/y_integral ,\"r\")\n",
    "ax2.set_xlabel('x')\n",
    "ax2.set_ylabel('cumulative')\n",
    "\n",
    "plt.show()"
   ]
  },
  {
   "cell_type": "code",
   "execution_count": null,
   "id": "e9692295",
   "metadata": {},
   "outputs": [],
   "source": []
  }
 ],
 "metadata": {
  "kernelspec": {
   "display_name": "Python 3 (ipykernel)",
   "language": "python",
   "name": "python3"
  },
  "language_info": {
   "codemirror_mode": {
    "name": "ipython",
    "version": 3
   },
   "file_extension": ".py",
   "mimetype": "text/x-python",
   "name": "python",
   "nbconvert_exporter": "python",
   "pygments_lexer": "ipython3",
   "version": "3.10.9"
  }
 },
 "nbformat": 4,
 "nbformat_minor": 5
}
